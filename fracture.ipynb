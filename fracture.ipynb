{
 "cells": [
  {
   "cell_type": "code",
   "execution_count": 1,
   "id": "3c542b35",
   "metadata": {},
   "outputs": [],
   "source": [
    "def stereonet(strikes,dips):\n",
    "    '''Function to Plot Stereonet of Fracture Data (with polar heatmap)'''\n",
    "    import numpy as np\n",
    "    import matplotlib.pyplot as plt\n",
    "    import stereonet\n",
    "    \n",
    "    # Visualize stereonets (Schmidt projection)\n",
    "    fig=plt.figure(figsize=(10,10))\n",
    "    \n",
    "    ax=fig.add_subplot(111, projection='stereonet')\n",
    "    ax.pole(strikes, dips, '.', color=\"black\", markersize=10)\n",
    "    ax.plane(strikes, dips, '-', color=\"blue\", linewidth=1)\n",
    "    ax.density_contourf(strikes, dips, measurement='poles', cmap='Reds')\n",
    "    ax.grid()\n",
    "    \n",
    "def rose(strikes):\n",
    "    '''Function to Plot Rose Diagram of Fracture Data\n",
    "    \n",
    "    Source code originally by Bruno Ruas de Pinho\n",
    "        Website: http://geologyandpython.com/structural_geology.html\n",
    "        Function is made by author to interface user to that source code'''\n",
    "    \n",
    "    import numpy as np\n",
    "    import matplotlib.pyplot as plt\n",
    "    import stereonet\n",
    "    \n",
    "    # calculate the number of strikes every 10 degree\n",
    "    bin_edges = np.arange(-5, 366, 10)\n",
    "    number_of_strikes,bin_edges = np.histogram(strikes, bin_edges)\n",
    "    \n",
    "    # Sum the last value with the first value\n",
    "    number_of_strikes[0]+= number_of_strikes[-1]\n",
    "    \n",
    "    # Sum the first half 0-180° with the second half 180-360° to achi\n",
    "    half = np.sum(np.split(number_of_strikes[:-1], 2), 0)\n",
    "    two_halves = np.concatenate([half, half])\n",
    "    \n",
    "    fig = plt.figure(figsize=(10,10))\n",
    "    ax = fig.add_subplot(projection='polar')\n",
    "    \n",
    "    ax.bar(np.deg2rad(np.arange(0, 360, 10)), two_halves, \n",
    "        width=np.deg2rad(10), bottom=0.0, color='green', edgecolor='k')\n",
    "    ax.set_theta_zero_location('N')\n",
    "    ax.set_theta_direction(-1)\n",
    "    ax.set_thetagrids(np.arange(0, 360, 10), labels=np.arange(0, 360, 10))\n",
    "    ax.set_rgrids(np.arange(1, two_halves.max() + 1, 2), angle=0, weight= 'black')\n",
    "    ax.set_title('Rose Diagram', y=1.10, fontsize=15)\n",
    "\n",
    "    fig.show()  \n",
    "\n",
    "    "
   ]
  },
  {
   "cell_type": "code",
   "execution_count": null,
   "id": "adde9989",
   "metadata": {},
   "outputs": [],
   "source": []
  }
 ],
 "metadata": {
  "kernelspec": {
   "display_name": "Python 3 (ipykernel)",
   "language": "python",
   "name": "python3"
  },
  "language_info": {
   "codemirror_mode": {
    "name": "ipython",
    "version": 3
   },
   "file_extension": ".py",
   "mimetype": "text/x-python",
   "name": "python",
   "nbconvert_exporter": "python",
   "pygments_lexer": "ipython3",
   "version": "3.9.12"
  }
 },
 "nbformat": 4,
 "nbformat_minor": 5
}
